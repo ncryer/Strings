{
 "metadata": {
  "name": "Suffix Trie"
 },
 "nbformat": 3,
 "nbformat_minor": 0,
 "worksheets": [
  {
   "cells": [
    {
     "cell_type": "heading",
     "level": 1,
     "metadata": {},
     "source": "Jeg har ik' lavet peng', jeg har lavet tr\u00e6er"
    },
    {
     "cell_type": "markdown",
     "metadata": {},
     "source": "Et tr\u00e6 er en acyklisk graf med kun en sti fra rod til hvilket som helst blad. \n\nEn graf er en samling af knuder og kanter; kanterne forbinder knuderne til hinanden og s\u00e5 fremdeles. Man kan bruge grafer til at indeksere alt muligt lort p\u00e5 en smart m\u00e5de; fx er det belejligt at indeksere strenge ved hj\u00e6lp af s\u00e6rlige tr\u00e6er, s\u00e5ledes at delstrenge hurtigt kan findes. \n\nMan kan repr\u00e6sentere en graf p\u00e5 forskellige m\u00e5der: en m\u00e5de er via en adjacency matrix - for V knuder laver vi en VxV bin\u00e6r matrix A, hvor A[i,j] == 1 hvis og kun hvis der er en kant der forbinder knude i og j. Det bliver dog hurtigt noget b\u00f8vl for store grafer, s\u00e5 i stedet kan man repr\u00e6sentere knuderne som objekter og forholdet imellem dem igennem en liste af lister, en dictionary eller tilsvarende. \n\nI Python kan man eksempelvis konstruere en vilk\u00e5rlig graf udfra disse to klasser:"
    },
    {
     "cell_type": "code",
     "collapsed": false,
     "input": "class Node(object):\n    \n    def __init__(self, ID, label=\"\"):\n        self.id = ID\n        self.label = label\n        \n        # Dict of nodes connected to this node\n        self.adj = {}\n    \n    def connections(self):\n        return self.adj.keys()\n    \n    def get_id(self):\n        return self.id\n    \n    def get_label(self):\n        # Return label of edge connecting this node to its parent\n        return self.label\n    \n    def addConnection(self, neighbor, label=\"\"):\n        self.adj[neighbor] = label",
     "language": "python",
     "metadata": {},
     "outputs": [],
     "prompt_number": 2
    },
    {
     "cell_type": "markdown",
     "metadata": {},
     "source": "Knude-objektet indeholder en dictionary der holder styr p\u00e5 hvilke andre knuder den er forbundet til. Desuden har den metoden \"addConnection\" der forbinder en ny knude via en kant, og denne kant kan man skrive noget p\u00e5 hvis man har lyst. Man kan forbinde dette objekt via et overordnet graf-objekt s\u00e5ledes:"
    },
    {
     "cell_type": "code",
     "collapsed": false,
     "input": "class Graph(object):\n    \n    def __init__(self):\n        \n        # Collection of nodes in the graph\n        self.nodes = {}\n        \n        self.node_count = 0\n    \n    def addNode(self, label=\"\"):\n        \n        self.node_count += 1\n        \n        newNode = Node(self.node_count, label)\n        \n        self.nodes[self.node_count] = newNode\n        \n        return newNode\n    \n    def getNode(self, nodeID):\n        \n        if nodeID in self.nodes:\n            return self.nodes[nodeID]\n        else:\n            return None\n    \n    def addEdge(self, node1, node2, label=\"\"):\n        # Adds an edge between two nodes in the graph\n        \n        if node1 not in self.nodes:\n            self.addNode(node1)\n        if node2 not in self.nodes:\n            self.addNode(node2)\n            \n        self.nodes[node1].addConnection(self.nodes[node2], label)\n        \n    def __iter__(self):\n        return iter(self.nodes.values())",
     "language": "python",
     "metadata": {},
     "outputs": [],
     "prompt_number": 3
    },
    {
     "cell_type": "markdown",
     "metadata": {},
     "source": "Graf-objektet holder styr p\u00e5 alle knuderne, og har yderligere metoder til at tilf\u00f8je knuder og kanter osv.\n\nNu kan man bruge disse til at lave forskellige former for grafer. For at begynde at fatte suffixtr\u00e6er har jeg startet med et suffix trie, idet suffixtr\u00e6et er en \"komprimeret\" udgave af denne datastruktur. Her er fordansket pseudokode for at bygge et suffix trie:\n\ninputstreng: \"BANANAS\"\n1. Opret en knude der agerer som roden af tr\u00e6et vi skal bygge.\n\n2. Kig p\u00e5 begyndelsesbogstavet af hele strengen\n    \n    3. Kig p\u00e5 alle knuder forbundet til den nuv\u00e6rende knude.\n    \n    Hvis en kant er labelet med begyndelsesbogstavet\n        g\u00e5 ned ad denne kant og ryk nu indexet i inputstrengen en tak til h\u00f8jre (fra \"BANANAS\" til \"ANANAS\")\n        gentag 3. \n    Hvis der ingen kant findes med et passende begyndelsesbogstav:\n        Opret en ny knude og forbind den til den nuv\u00e6rende knude med det passende label (fx \"B\" hvis man st\u00e5r p\u00e5 roden i f\u00f8rste tr\u00e6k)\n4. Repeat for alle suffixes af inputstrengen (\"ANANAS\", \"NANAS\", \"ANAS\", ... )\n\nJeg har implementeret suffixtriet s\u00e5ledes:\n"
    },
    {
     "cell_type": "code",
     "collapsed": false,
     "input": "class SuffixTrie(object):\n    \n    def __init__(self, inpstring):\n        self.str = inpstring\n        self.trie = Graph()\n        \n        self.build()\n    \n    \n    def build(self):\n        \"\"\"\n        Build the suffix trie\n        \"\"\"\n        \n        # Root\n        self.trie.addNode(\"Root\")\n        \n        L = len(self.str)\n        for i in range(L):\n            \n            curSuffix = self.str[i:L]\n            \n            \"\"\"\n            Reading the current suffix from left to right, start at the root:\n            If node contains an edge with a label identical to the current letter:\n                Move into that node\n            Else:\n                Add node with corresponding label\n            \"\"\"\n            \n            self.construct( self.trie.getNode(1), curSuffix )\n        \n        print \"Trie built.\"\n    \n    def construct(self, node, suffix):\n        if len(suffix) == 0:\n            # Terminate\n        \n            return None\n            \n            \n        \n        start_letter = suffix[0]\n        \n        # Check if current letter already exists\n        \n        if len(node.adj.keys()) == 0:\n            pass\n        else:\n            for neighbor in node.adj.keys():\n                if neighbor.get_label() == start_letter: \n                    # Go down this path\n                    self.construct(neighbor, suffix[1:])\n                    return\n\n        \n        # This part is reached when letter isn't found\n        # Make a new node, connect it to current node        \n        \n        newNode = self.trie.addNode(label=start_letter)\n        \n        self.trie.addEdge(node.get_id(), newNode.get_id(), label=start_letter)\n        \n        self.construct( self.trie.nodes[newNode.get_id()], suffix[1:])\n        \n    def printConnections(self):\n        for node in self.trie:\n            for connection in node.connections():\n                print \"( %s , %s, %s )\" %(node.get_id(), connection.get_id(), connection.get_label()) \n    \n    def toPNG(self):\n        # Note: Requires pydot\n        import pydot\n        viz = pydot.Dot(graph_type=\"graph\")\n        #viz.set_node_defaults(style=\"filled\", fillcolor=\"grey\")\n        \n        for node in self.trie:\n            for connection in node.connections():\n                viz.add_edge(pydot.Edge(node.get_id(), connection.get_id(), label = connection.get_label()))\n        viz.write_png(\"suffixtrie.png\", prog=\"dot\")",
     "language": "python",
     "metadata": {},
     "outputs": [],
     "prompt_number": 4
    },
    {
     "cell_type": "markdown",
     "metadata": {},
     "source": "Jeg bruger den rekursive funktion \"construct\" til at oprette nye knuder eller g\u00e5 ned af passende kanter alt afh\u00e6ngigt. Jeg har desuden benyttet mig af pydot APIen til at visualisere grafen (nok ikke s\u00e5 belejligt for genomer). For strengen \"BANANAS\" f\u00e5r man:"
    },
    {
     "cell_type": "code",
     "collapsed": false,
     "input": "y = SuffixTrie(\"BANANAS\")\ny.toPNG()\n\nfrom IPython.core.display import HTML\nHTML('<img src=\"https://raw.githubusercontent.com/ncryer/Strings/master/suffixtrie.png\" width=600 height=500/>')",
     "language": "python",
     "metadata": {},
     "outputs": [
      {
       "output_type": "stream",
       "stream": "stdout",
       "text": "Trie built.\nCouldn't import dot_parser, loading of dot files will not be possible.\n"
      },
      {
       "html": "<img src=\"https://raw.githubusercontent.com/ncryer/Strings/master/suffixtrie.png\" width=600 height=500/>",
       "metadata": {},
       "output_type": "pyout",
       "prompt_number": 5,
       "text": "<IPython.core.display.HTML at 0x319d9d0>"
      }
     ],
     "prompt_number": 5
    },
    {
     "cell_type": "markdown",
     "metadata": {},
     "source": "Nu kan vi gemme index'er i knuderne og jeg skal komme efter dig. \n\nTODO: \n\n1. Forst\u00e5 McCreights algoritme \n\n2. ??? \n\n3. IT-millionerne"
    }
   ],
   "metadata": {}
  }
 ]
}